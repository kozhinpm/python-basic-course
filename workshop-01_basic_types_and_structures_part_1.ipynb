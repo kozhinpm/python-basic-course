{
 "cells": [
  {
   "cell_type": "markdown",
   "id": "5c258e2b",
   "metadata": {},
   "source": [
    "# Workshop 1: Базовые типы и структуры. Часть 1"
   ]
  },
  {
   "cell_type": "markdown",
   "id": "46e98e1c",
   "metadata": {},
   "source": [
    "## 1. Условный оператор `if-else`, циклы `for` и `while`"
   ]
  },
  {
   "cell_type": "markdown",
   "id": "a695bf38",
   "metadata": {},
   "source": [
    "#### 1.1. Запросить число `n` от пользователя и вычислить сумму всех чисел от 1 до `n`, включая `n`."
   ]
  },
  {
   "cell_type": "code",
   "execution_count": null,
   "id": "5df6cb33",
   "metadata": {},
   "outputs": [],
   "source": [
    "print(\"введите натуральное число\")\n",
    "number = int(input())\n",
    "result = sum(range(1, 1 + number))\n",
    "print('сумма всех чисел от 1 до {} равна {}'.format(number, result))\n"
   ]
  },
  {
   "cell_type": "markdown",
   "id": "5835ac87",
   "metadata": {},
   "source": [
    "#### 1.2. Отобразить числа от -10 до -1, используя цикл `for`."
   ]
  },
  {
   "cell_type": "code",
   "execution_count": null,
   "id": "2970679f",
   "metadata": {},
   "outputs": [],
   "source": [
    "for x in range(-10, 0):\n",
    "    print(x)"
   ]
  },
  {
   "cell_type": "markdown",
   "id": "075cc101",
   "metadata": {},
   "source": [
    "#### 1.3. Получив на вход список, итеративно пройти по нему и вывести числа, которые делятся на 5. Если в процессе итераций встретится число, большее 120, остановить цикл."
   ]
  },
  {
   "cell_type": "code",
   "execution_count": null,
   "id": "06165d24",
   "metadata": {},
   "outputs": [],
   "source": [
    "print(\"введите последовательность чисел через пробел\")\n",
    "numbers = map(int, input().split())\n",
    "for i in numbers:\n",
    "    if i > 120:\n",
    "        print(\"stop! {} больше 120\".format(i))\n",
    "        break\n",
    "    elif i % 5 == 0:\n",
    "        print(i)\n",
    "    else:\n",
    "        pass\n",
    "    print(\"больше элементов нет\")"
   ]
  },
  {
   "cell_type": "markdown",
   "id": "6d459f21",
   "metadata": {},
   "source": [
    "#### 1.4. Вывести в консоль следующий паттерн:\n",
    "```\n",
    "5 4 3 2 1\n",
    "4 3 2 1\n",
    "3 2 1\n",
    "2 1\n",
    "1\n",
    "```"
   ]
  },
  {
   "cell_type": "code",
   "execution_count": 1,
   "id": "8cc5516a",
   "metadata": {},
   "outputs": [
    {
     "name": "stdout",
     "output_type": "stream",
     "text": [
      "5 4 3 2 1\n",
      "4 3 2 1\n",
      "3 2 1\n",
      "2 1\n",
      "1\n"
     ]
    }
   ],
   "source": [
    "for i in range(5, 0, -1):\n",
    "    print(*range(i, 0, -1), sep=\" \")"
   ]
  },
  {
   "cell_type": "markdown",
   "id": "f96046bb",
   "metadata": {},
   "source": [
    "#### 1.5. Получив на вход целочисленное число (`int`), определить общее число цифр в нем."
   ]
  },
  {
   "cell_type": "code",
   "execution_count": 2,
   "id": "b31c6a36",
   "metadata": {},
   "outputs": [
    {
     "name": "stdout",
     "output_type": "stream",
     "text": [
      "1.5. Получив на вход целочисленное число (int), определить общее число цифр в нем.\n",
      "введите натуральное число\n",
      "общее число цифр в 12 = 2\n"
     ]
    }
   ],
   "source": [
    "print(\"1.5. Получив на вход целочисленное число (int), определить общее число цифр в нем.\")\n",
    "print(\"введите натуральное число\")\n",
    "i = input()\n",
    "print(\"общее число цифр в {} = {}\".format(i, len(i)))"
   ]
  },
  {
   "cell_type": "markdown",
   "id": "1d5230ab",
   "metadata": {},
   "source": [
    "#### 1.6. Получив на вход список (`list`), обратить его с помощью цикла `for`"
   ]
  },
  {
   "cell_type": "code",
   "execution_count": 3,
   "id": "42f1f62f",
   "metadata": {},
   "outputs": [
    {
     "name": "stdout",
     "output_type": "stream",
     "text": [
      "введите последовательность чисел через пробел\n",
      "88 6 4 2 "
     ]
    }
   ],
   "source": [
    "print(\"введите последовательность чисел через пробел\")\n",
    "numbers = list(map(int, input().split()))\n",
    "for i in range(len(numbers) - 1, -1, -1):\n",
    "    print(numbers[i], end=\" \")"
   ]
  },
  {
   "cell_type": "markdown",
   "id": "9c249bbe",
   "metadata": {},
   "source": [
    "#### 1.7. Написать произвольный цикл, содержащий условие внтури, и вывести сообщение \"Done\" в случае, если условие ни разу не выполнилось. NOTE: не используя дополнительные переменные."
   ]
  },
  {
   "cell_type": "code",
   "execution_count": 5,
   "id": "e6db7d8d",
   "metadata": {},
   "outputs": [
    {
     "name": "stdout",
     "output_type": "stream",
     "text": [
      "Done\n"
     ]
    }
   ],
   "source": [
    "for x in range(1, 10):\n",
    "    if x == 100:\n",
    "        print(x, 'equals', 100)\n",
    "else:\n",
    "    print('Done')"
   ]
  },
  {
   "cell_type": "markdown",
   "id": "49141bf4",
   "metadata": {},
   "source": [
    "## 2. Функции, аргументы функций, встроенные функции"
   ]
  },
  {
   "cell_type": "markdown",
   "id": "da923fbf",
   "metadata": {},
   "source": [
    "#### 2.1. Напишите функцию `calculation()` таким образом, чтобы она могла принимать две переменные и вычислять их сложение и вычитание. А также она должна возвращать как сложение, так и вычитание за один вызов."
   ]
  },
  {
   "cell_type": "code",
   "execution_count": 10,
   "id": "12865084",
   "metadata": {},
   "outputs": [
    {
     "name": "stdout",
     "output_type": "stream",
     "text": [
      "(15, 5)\n"
     ]
    }
   ],
   "source": [
    "def calculation(a: int, b: int) -> (int, int):\n",
    "    addition = a + b\n",
    "    substraction = a - b\n",
    "    return addition, substraction\n",
    "\n",
    "print(calculation(10, 5))"
   ]
  },
  {
   "cell_type": "markdown",
   "id": "b3aad320",
   "metadata": {},
   "source": [
    "#### 2.2. Напишите функцию `showEmployee()` таким образом, чтобы она принимала имя сотрудника и его зарплату и отображала и то, и другое. А если зарплата отсутствует при вызове функции, функция должна отображать ее равную 9000."
   ]
  },
  {
   "cell_type": "code",
   "execution_count": 16,
   "id": "1985780b",
   "metadata": {},
   "outputs": [
    {
     "name": "stdout",
     "output_type": "stream",
     "text": [
      "имя сотрудника Иван; зарплата сотрудника 9000\n"
     ]
    }
   ],
   "source": [
    "def showEmployee(name: str, salary: int = 9000) -> None:\n",
    "    return print(\"имя сотрудника {}; зарплата сотрудника {}\".format(name, salary))\n",
    "\n",
    "showEmployee(\"Иван\")"
   ]
  },
  {
   "cell_type": "markdown",
   "id": "19197ff0",
   "metadata": {},
   "source": [
    "#### 2.3. Напишите рекурсивную функцию для вычисления чисел от 0 до 10."
   ]
  },
  {
   "cell_type": "code",
   "execution_count": 38,
   "id": "792607dd",
   "metadata": {},
   "outputs": [
    {
     "data": {
      "text/plain": [
       "[0, 1, 2, 3, 4, 5, 6, 7, 8, 9, 10]"
      ]
     },
     "execution_count": 38,
     "metadata": {},
     "output_type": "execute_result"
    }
   ],
   "source": [
    "def counter(to_number: int = 10) -> list[int]:    \n",
    "    def loop(n: int = 0, acc: list = []) -> list[int]:\n",
    "        if n <= to_number:\n",
    "            acc.append(n)\n",
    "            return loop(n+1, acc) \n",
    "        else:\n",
    "            return acc\n",
    "    return loop()        \n",
    "\n",
    "counter()       "
   ]
  },
  {
   "cell_type": "markdown",
   "id": "36080579",
   "metadata": {},
   "source": [
    "#### 2.4. Напишите функцию таким образом, чтобы она могла принимать переменное количество аргументов и выводить значение всех этих аргументов."
   ]
  },
  {
   "cell_type": "code",
   "execution_count": 23,
   "id": "e914b52b",
   "metadata": {},
   "outputs": [
    {
     "name": "stdout",
     "output_type": "stream",
     "text": [
      "1 1 2 3 4\n"
     ]
    }
   ],
   "source": [
    "def printer(*args):\n",
    "    print(*args, sep = \" \")\n",
    "\n",
    "printer(1,1,2,3,4)"
   ]
  },
  {
   "cell_type": "markdown",
   "id": "75b4d257",
   "metadata": {},
   "source": [
    "#### 2.5. Напишите произвольную функцию, после этого присвойте ей другое имя, а затем вызовите ее с помощью нового имени."
   ]
  },
  {
   "cell_type": "code",
   "execution_count": 39,
   "id": "64f882f3",
   "metadata": {},
   "outputs": [
    {
     "data": {
      "text/plain": [
       "1"
      ]
     },
     "execution_count": 39,
     "metadata": {},
     "output_type": "execute_result"
    }
   ],
   "source": [
    "def first(my_list: list):\n",
    "    return my_list[0]\n",
    "\n",
    "first_new = first\n",
    "\n",
    "first_new([1,2,3])"
   ]
  },
  {
   "cell_type": "markdown",
   "id": "a6a9ec34",
   "metadata": {},
   "source": [
    "#### 2.6. Сгенерируйте список всех четных чисел от 4 до 40."
   ]
  },
  {
   "cell_type": "code",
   "execution_count": 42,
   "id": "9b3e0a72",
   "metadata": {},
   "outputs": [
    {
     "data": {
      "text/plain": [
       "[4, 6, 8, 10, 12, 14, 16, 18, 20, 22, 24, 26, 28, 30, 32, 34, 36, 38, 40]"
      ]
     },
     "execution_count": 42,
     "metadata": {},
     "output_type": "execute_result"
    }
   ],
   "source": [
    "[i for i in range(4, 41) if i % 2 ==0]"
   ]
  },
  {
   "cell_type": "markdown",
   "id": "514a3c3d",
   "metadata": {},
   "source": [
    "#### 2.7. Вернуть наибольший элемент из произвольного списка"
   ]
  },
  {
   "cell_type": "code",
   "execution_count": 43,
   "id": "a9a0c263",
   "metadata": {},
   "outputs": [
    {
     "data": {
      "text/plain": [
       "40"
      ]
     },
     "execution_count": 43,
     "metadata": {},
     "output_type": "execute_result"
    }
   ],
   "source": [
    "max(*[4, 6, 8, 10, 12, 14, 16, 18, 20, 22, 24, 26, 28, 30, 32, 34, 36, 38, 40])"
   ]
  },
  {
   "cell_type": "markdown",
   "id": "e4227158",
   "metadata": {},
   "source": [
    "## 3. Строки и операции над ними"
   ]
  },
  {
   "cell_type": "markdown",
   "id": "4b35ffba",
   "metadata": {},
   "source": [
    "#### 3.1. Получив на вход строку нечетной длины, вернуть строку, состоящую из трех стредних символов этой строки."
   ]
  },
  {
   "cell_type": "code",
   "execution_count": 64,
   "id": "7d46fc37",
   "metadata": {},
   "outputs": [
    {
     "data": {
      "text/plain": [
       "'bcd'"
      ]
     },
     "execution_count": 64,
     "metadata": {},
     "output_type": "execute_result"
    }
   ],
   "source": [
    "def return_3_in_midle(s: str) -> str:\n",
    "    if len(s) % 2:\n",
    "        midle = len(s)//2\n",
    "        return s[midle-1:midle+2]\n",
    "    \n",
    "return_3_in_midle(\"abcde\") \n"
   ]
  },
  {
   "cell_type": "markdown",
   "id": "92f1c30c",
   "metadata": {},
   "source": [
    "#### 3.2. Получив на вход 2 строки `s1` и `s2`, создать новую строку, добавив `s2` в середину `s1`."
   ]
  },
  {
   "cell_type": "code",
   "execution_count": 65,
   "id": "fa368156",
   "metadata": {},
   "outputs": [
    {
     "data": {
      "text/plain": [
       "'abcghdef'"
      ]
     },
     "execution_count": 65,
     "metadata": {},
     "output_type": "execute_result"
    }
   ],
   "source": [
    "def insert_in_midle(s1: str, s2: str) -> str:\n",
    "    midle = len(s1)//2\n",
    "    return s1[:midle]+s2+s1[midle:]\n",
    "\n",
    "insert_in_midle(\"abcdef\", \"gh\")"
   ]
  },
  {
   "cell_type": "markdown",
   "id": "fdfe7136",
   "metadata": {},
   "source": [
    "#### 3.3. Расположить строковые символы в произвольной строке таким образом, чтобы строчные буквы были первыми."
   ]
  },
  {
   "cell_type": "code",
   "execution_count": 88,
   "id": "6f274712",
   "metadata": {},
   "outputs": [
    {
     "data": {
      "text/plain": [
       "'abdefCGH'"
      ]
     },
     "execution_count": 88,
     "metadata": {},
     "output_type": "execute_result"
    }
   ],
   "source": [
    "string = 'abCGHdef'\n",
    "\n",
    "\"\".join(c for c in string if c.islower()).__add__(\"\".join(c for c in string if c.isupper()))\n"
   ]
  },
  {
   "cell_type": "markdown",
   "id": "7238f24d",
   "metadata": {},
   "source": [
    "#### 3.4. Получив на вход строку, посчитать количество строчных и заглавных букв, цифр и специальных символов."
   ]
  },
  {
   "cell_type": "code",
   "execution_count": 8,
   "id": "a581f214",
   "metadata": {},
   "outputs": [
    {
     "name": "stdout",
     "output_type": "stream",
     "text": [
      "5 3 2 3\n"
     ]
    }
   ],
   "source": [
    "string = 'abCGHde4f4./'\n",
    "lower = sum(map(lambda x: x.islower(), string))\n",
    "upper = sum(map(lambda x: x.isupper(), string))\n",
    "num = sum(map(lambda x: x.isdecimal(), string))\n",
    "special = sum(map(lambda x: not x.isalnum(), string))\n",
    "print(lower, upper, num, special)\n"
   ]
  },
  {
   "cell_type": "markdown",
   "id": "9791e5e7",
   "metadata": {},
   "source": [
    "#### 3.5. Найдите все вхождения слова \"Python\" в заданной строке, игнорируя регистр."
   ]
  },
  {
   "cell_type": "code",
   "execution_count": 18,
   "id": "77351b7e",
   "metadata": {},
   "outputs": [
    {
     "name": "stdout",
     "output_type": "stream",
     "text": [
      "3\n"
     ]
    }
   ],
   "source": [
    "string = \"Hello, world! pythonThis isPython a test PYthonstring.\"\n",
    "\n",
    "word_count = string.casefold().count(\"Python\".casefold())\n",
    "\n",
    "print(word_count)"
   ]
  },
  {
   "cell_type": "markdown",
   "id": "96f1aae1",
   "metadata": {},
   "source": [
    "#### 3.6. Получив на вход строку, состоящую из букв и цифр, вернуть сумму и среднее значение чисел, которые повляются в ней, игнорируя все остальные символы."
   ]
  },
  {
   "cell_type": "code",
   "execution_count": 32,
   "id": "44f2df97",
   "metadata": {},
   "outputs": [
    {
     "data": {
      "text/plain": [
       "(13, 3.25)"
      ]
     },
     "execution_count": 32,
     "metadata": {},
     "output_type": "execute_result"
    }
   ],
   "source": [
    "import re\n",
    "\n",
    "def sum_and_avg(string):\n",
    "    pattern = r'\\d+'\n",
    "    numbers = list(map(int, re.findall(pattern, string)))\n",
    "    return sum(numbers), sum(numbers)/len(numbers)\n",
    "    \n",
    "sum_and_avg('abCG3H2de4f4./')"
   ]
  },
  {
   "cell_type": "markdown",
   "id": "7d5e0a98",
   "metadata": {},
   "source": [
    "#### 3.7. Получив на вход произвольную строку, подсчитать количество вхождений всех символов в этой строке."
   ]
  },
  {
   "cell_type": "code",
   "execution_count": 48,
   "id": "b5ec33cf",
   "metadata": {},
   "outputs": [
    {
     "name": "stdout",
     "output_type": "stream",
     "text": [
      "Количество уникальных символов в строке: {'H': 1, 'e': 1, 'l': 3, 'o': 2, ',': 1, ' ': 1, 'w': 1, 'r': 1, 'd': 1, '!': 1}\n"
     ]
    }
   ],
   "source": [
    "string = \"Hello, world!\"\n",
    "def count_all_symbols(string):\n",
    "    unique_symbol = {}\n",
    "    for char in string:\n",
    "        unique_symbol[char] = unique_symbol.get(char, 0) + 1\n",
    "    return unique_symbol\n",
    "\n",
    "unique_chars = count_all_symbols(string)  \n",
    "  \n",
    "\n",
    "print(\"Количество уникальных символов в строке:\", (unique_chars))"
   ]
  }
 ],
 "metadata": {
  "kernelspec": {
   "display_name": "Python 3 (ipykernel)",
   "language": "python",
   "name": "python3"
  },
  "language_info": {
   "codemirror_mode": {
    "name": "ipython",
    "version": 3
   },
   "file_extension": ".py",
   "mimetype": "text/x-python",
   "name": "python",
   "nbconvert_exporter": "python",
   "pygments_lexer": "ipython3",
   "version": "3.10.0"
  }
 },
 "nbformat": 4,
 "nbformat_minor": 5
}
